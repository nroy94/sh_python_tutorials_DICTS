{
 "cells": [
  {
   "cell_type": "markdown",
   "metadata": {},
   "source": [
    "# Dictionaries\n",
    "\n",
    "Python dictionaries can be seen as an extension of lists. Recall list syntax:\n",
    "\n",
    "### ```[item1, item2, item3, ...]```<br>\n",
    "\n",
    "To access an item in a list, you could reach a value by its index. Dictionaries, however, involve <b>key-value</b> pairs. That means a dictionary looks more like this:\n",
    "\n",
    "### ```{\"key1\":\"value1\", \"key2\":\"value2\",...}```<br>\n",
    "\n",
    "**Contents:**\n",
    "\n",
    "a. <a href=\"#Define-a-dictionary\">Define a dictionary</a><br>\n",
    "b. <a href=\"#Get-Value-of-a-Key\">Get Value of a Key</a><br>\n",
    "c. <a href=\"#Access-Keys-In-Dictionary\">Access Keys In Dictionary</a><br>\n",
    "d. <a href=\"#Access-Values-In-Dictionary\">Access Values In Dictionary</a><br>\n",
    "e. <a href=\"#Update-a-value-in-a-dictionary\">Update a value in a Dictionary</a><br>\n",
    "f. <a href=\"#Delete-a-value-from-a-dictionary\">Delete a value from a Dictionary</a><br>\n",
    "g.  <a href=\"#Add-a-value-to-a-dictionary\">Add a value to a Dictionary</a><br>\n",
    "h. <a href=\"#Dictionary-Comprehension\">Dictionary Comprehension</a><br>\n",
    "i. <a href=\"#Nested-dictionary\">Nested dictionary</a><br>\n"
   ]
  },
  {
   "cell_type": "markdown",
   "metadata": {},
   "source": [
    "**Motivating example:**\n",
    "\n",
    "A good way to initially think about a dictionary is that the keys are like the indices of a list, while the values are the actual elements of a list. Consider the list below. Notice that the indices are numbers like we're used to.  \n",
    "\n",
    "<img src=office_list3.png height=1000 width=1000>\n"
   ]
  },
  {
   "cell_type": "markdown",
   "metadata": {},
   "source": [
    "And recall that we access the elements in a list using the corresponding index as below:"
   ]
  },
  {
   "cell_type": "code",
   "execution_count": 4,
   "metadata": {},
   "outputs": [
    {
     "data": {
      "text/plain": [
       "'Receptionist'"
      ]
     },
     "execution_count": 4,
     "metadata": {},
     "output_type": "execute_result"
    }
   ],
   "source": [
    "office_list = [\"Regional Manager\", \"Assistant TO the Regional Manager\", \"Salesman\", \"Receptionist\", \"Lead HR Representative\"]\n",
    "office_list[3]"
   ]
  },
  {
   "cell_type": "markdown",
   "metadata": {},
   "source": [
    "<br><br>However, what if we made this more meaning full and gave each index a name?\n",
    "\n",
    "<img src=office_dict.png width=1000 height=1000>\n",
    "<br>\n",
    "Now we can use the \"names\" just like an index for access!"
   ]
  },
  {
   "cell_type": "code",
   "execution_count": 1,
   "metadata": {},
   "outputs": [
    {
     "data": {
      "text/plain": [
       "'Receptionist'"
      ]
     },
     "execution_count": 1,
     "metadata": {},
     "output_type": "execute_result"
    }
   ],
   "source": [
    "office_dict = {\n",
    "    \"Michael\": \"Regional Manager\",\n",
    "    \"Dwight\": \"Assistant TO the Regional Manager\",\n",
    "    \"Jim\": \"Salesman\",\n",
    "    \"Pam\": \"Receptionist\",\n",
    "    \"Toby\": \"Lead HR Representative\"\n",
    "}\n",
    "office_dict['Pam']"
   ]
  },
  {
   "cell_type": "markdown",
   "metadata": {},
   "source": [
    "Notice how this is more intuitive than using lists as well.\n",
    "\n",
    "Note that some similarities end here. For example, you can't slice a dictionary."
   ]
  },
  {
   "cell_type": "markdown",
   "metadata": {},
   "source": [
    "### Define the dictionary\n",
    "\n",
    "Use squiggly brackets and separate key-values pairs with a colon. We separate wach key-value pair with a comma. For this example, we'll use characters from The Office:"
   ]
  },
  {
   "cell_type": "code",
   "execution_count": 26,
   "metadata": {},
   "outputs": [],
   "source": [
    "office_dict = {\n",
    "    \"Michael\": \"Regional Manager\",\n",
    "    \"Dwight\": \"Assistant TO the Regional Manager\",\n",
    "    \"Jim\": \"Salesman\",\n",
    "    \"Pam\": \"Receptionist\",\n",
    "    \"Toby\": \"Lead HR Representative\"\n",
    "}"
   ]
  },
  {
   "cell_type": "markdown",
   "metadata": {},
   "source": [
    "### Get Value of a Key\n",
    "\n",
    "Just like how we would access an element of a list with a index, we access a value by providing the key."
   ]
  },
  {
   "cell_type": "code",
   "execution_count": 6,
   "metadata": {},
   "outputs": [
    {
     "data": {
      "text/plain": [
       "'Regional Manager'"
      ]
     },
     "execution_count": 6,
     "metadata": {},
     "output_type": "execute_result"
    }
   ],
   "source": [
    "office_dict['Michael']"
   ]
  },
  {
   "cell_type": "markdown",
   "metadata": {},
   "source": [
    "**What if the key doesn't exist?**<br>\n",
    "<font color = gray>We may set a default value for these, if we anticipate that a key might not exist.<font>"
   ]
  },
  {
   "cell_type": "code",
   "execution_count": 39,
   "metadata": {},
   "outputs": [
    {
     "data": {
      "text/plain": [
       "'Not a main character!'"
      ]
     },
     "execution_count": 39,
     "metadata": {},
     "output_type": "execute_result"
    }
   ],
   "source": [
    "office_dict.get(\"Bob Vance, Vance Refrigeration\", \"Not a main character!\")"
   ]
  },
  {
   "cell_type": "markdown",
   "metadata": {},
   "source": [
    "### Access Keys In Dictionary"
   ]
  },
  {
   "cell_type": "code",
   "execution_count": 9,
   "metadata": {},
   "outputs": [
    {
     "data": {
      "text/plain": [
       "dict_keys(['Michael', 'Dwight', 'Jim', 'Pam', 'Toby'])"
      ]
     },
     "execution_count": 9,
     "metadata": {},
     "output_type": "execute_result"
    }
   ],
   "source": [
    "office_dict.keys()"
   ]
  },
  {
   "cell_type": "markdown",
   "metadata": {},
   "source": [
    "**We can access keys by iterating through them as well**"
   ]
  },
  {
   "cell_type": "code",
   "execution_count": 8,
   "metadata": {},
   "outputs": [
    {
     "name": "stdout",
     "output_type": "stream",
     "text": [
      "Michael\n",
      "Dwight\n",
      "Jim\n",
      "Pam\n",
      "Toby\n"
     ]
    }
   ],
   "source": [
    "for key in office_dict.keys():\n",
    "    print(key)"
   ]
  },
  {
   "cell_type": "markdown",
   "metadata": {},
   "source": [
    "### Access Values In Dictionary"
   ]
  },
  {
   "cell_type": "code",
   "execution_count": 11,
   "metadata": {},
   "outputs": [
    {
     "data": {
      "text/plain": [
       "dict_values(['Regional Manager', 'Assistant TO the Regional Manager', 'Salesman', 'Receptionist', 'Lead HR Representative'])"
      ]
     },
     "execution_count": 11,
     "metadata": {},
     "output_type": "execute_result"
    }
   ],
   "source": [
    "office_dict.values()"
   ]
  },
  {
   "cell_type": "markdown",
   "metadata": {},
   "source": [
    "### Access Keys and Values In Dictionary\n",
    "\n",
    "Access all of your all keys and values in key-value tuple pairs:"
   ]
  },
  {
   "cell_type": "code",
   "execution_count": 12,
   "metadata": {},
   "outputs": [
    {
     "data": {
      "text/plain": [
       "dict_items([('Michael', 'Regional Manager'), ('Dwight', 'Assistant TO the Regional Manager'), ('Jim', 'Salesman'), ('Pam', 'Receptionist'), ('Toby', 'Lead HR Representative')])"
      ]
     },
     "execution_count": 12,
     "metadata": {},
     "output_type": "execute_result"
    }
   ],
   "source": [
    "office_dict.items()"
   ]
  },
  {
   "cell_type": "markdown",
   "metadata": {},
   "source": [
    "### Update a value in a dictionary\n",
    "\n",
    "You can update the job title of an employee when they get a promotion as follows:"
   ]
  },
  {
   "cell_type": "code",
   "execution_count": 13,
   "metadata": {},
   "outputs": [],
   "source": [
    "office_dict['Dwight'] = \"Assistant Manager\""
   ]
  },
  {
   "cell_type": "markdown",
   "metadata": {},
   "source": [
    "### Delete a value from a dictionary\n",
    "\n",
    "You can remove key-value pairs from a dictionary too:"
   ]
  },
  {
   "cell_type": "code",
   "execution_count": 27,
   "metadata": {},
   "outputs": [],
   "source": [
    "# Casino Nights happens...\n",
    "del office_dict['Jim']"
   ]
  },
  {
   "cell_type": "code",
   "execution_count": 28,
   "metadata": {},
   "outputs": [
    {
     "data": {
      "text/plain": [
       "{'Michael': 'Regional Manager',\n",
       " 'Dwight': 'Assistant TO the Regional Manager',\n",
       " 'Pam': 'Receptionist',\n",
       " 'Toby': 'Lead HR Representative'}"
      ]
     },
     "execution_count": 28,
     "metadata": {},
     "output_type": "execute_result"
    }
   ],
   "source": [
    "office_dict"
   ]
  },
  {
   "cell_type": "markdown",
   "metadata": {},
   "source": [
    "### Add a value to a dictionary"
   ]
  },
  {
   "cell_type": "code",
   "execution_count": 16,
   "metadata": {},
   "outputs": [],
   "source": [
    "office_dict['Andy'] = \"Sales Representative\""
   ]
  },
  {
   "cell_type": "markdown",
   "metadata": {},
   "source": [
    "### Dictionary Comprehension\n",
    "\n",
    "The syntax is:\n",
    "\n",
    "### ```{key:value for key, value in [list of lists]}```<br>\n",
    "\n",
    "Simple example"
   ]
  },
  {
   "cell_type": "code",
   "execution_count": 17,
   "metadata": {},
   "outputs": [
    {
     "data": {
      "text/plain": [
       "{1: 1, 2: 4, 3: 9, 4: 16, 5: 25, 6: 36}"
      ]
     },
     "execution_count": 17,
     "metadata": {},
     "output_type": "execute_result"
    }
   ],
   "source": [
    "nums = [1, 2, 3, 4, 5, 6]\n",
    "{i:i**2 for i in nums}"
   ]
  },
  {
   "cell_type": "markdown",
   "metadata": {},
   "source": [
    "We can use two lists and the  ```zip``` function to make a dictionary comprehension too. Syntax:\n",
    "\n",
    "### ```{key:value for key, value in zip(list1, list2)}```"
   ]
  },
  {
   "cell_type": "code",
   "execution_count": 18,
   "metadata": {},
   "outputs": [
    {
     "data": {
      "text/plain": [
       "{'Karen': 50000, 'Martin': 45000, 'Tony': 40000}"
      ]
     },
     "execution_count": 18,
     "metadata": {},
     "output_type": "execute_result"
    }
   ],
   "source": [
    "stamford = [\"Karen\", \"Martin\", \"Tony\"]\n",
    "stamford_salary = [50000, 45000, 40000]\n",
    "{name:salary for name, salary in zip(stamford, stamford_salary)}"
   ]
  },
  {
   "cell_type": "code",
   "execution_count": 2,
   "metadata": {},
   "outputs": [
    {
     "data": {
      "text/plain": [
       "{'Michael': 3846.15,\n",
       " 'Dwight': 1923.08,\n",
       " 'Jim': 1730.77,\n",
       " 'Pam': 961.54,\n",
       " 'Toby': 2307.69}"
      ]
     },
     "execution_count": 2,
     "metadata": {},
     "output_type": "execute_result"
    }
   ],
   "source": [
    "#In this example, we'll take their yearly salaries and divide by 26 to get their bi-weekly pay:\n",
    "office_yearly_salary_dict = {\n",
    "    \"Michael\": 100000,\n",
    "    \"Dwight\": 50000,\n",
    "    \"Jim\": 45000,\n",
    "    \"Pam\": 25000,\n",
    "    \"Toby\": 60000\n",
    "}\n",
    "office_biweekly_salary_dict = {name:round(salary/26, 2) for name, salary in office_yearly_salary_dict.items()}\n",
    "office_biweekly_salary_dict"
   ]
  },
  {
   "cell_type": "markdown",
   "metadata": {},
   "source": [
    "### Sorting a Dictionary\n",
    "\n",
    "Using .items() to get a list of key-value tuple pairs, we can then use this to sort a dictionary."
   ]
  },
  {
   "cell_type": "code",
   "execution_count": 20,
   "metadata": {},
   "outputs": [
    {
     "data": {
      "text/plain": [
       "dict_items([('Michael', 100000), ('Dwight', 50000), ('Jim', 45000), ('Pam', 25000), ('Toby', 60000)])"
      ]
     },
     "execution_count": 20,
     "metadata": {},
     "output_type": "execute_result"
    }
   ],
   "source": [
    "office_yearly_salary_dict.items()"
   ]
  },
  {
   "cell_type": "code",
   "execution_count": 21,
   "metadata": {},
   "outputs": [
    {
     "data": {
      "text/plain": [
       "[('Pam', 25000),\n",
       " ('Jim', 45000),\n",
       " ('Dwight', 50000),\n",
       " ('Toby', 60000),\n",
       " ('Michael', 100000)]"
      ]
     },
     "execution_count": 21,
     "metadata": {},
     "output_type": "execute_result"
    }
   ],
   "source": [
    "office_yearly_salary_srt = sorted(office_yearly_salary_dict.items(),\n",
    "                                  key = lambda x: x[1]) # we sorted by the second element in each tuple, which was the salary\n",
    "office_yearly_salary_srt"
   ]
  },
  {
   "cell_type": "markdown",
   "metadata": {},
   "source": [
    "We can now transform the list of tuples in a dictionary.\n",
    "\n",
    "The ```dict()``` function naturally knows to make a list of tuple pairs into a dictionary."
   ]
  },
  {
   "cell_type": "code",
   "execution_count": 22,
   "metadata": {},
   "outputs": [
    {
     "data": {
      "text/plain": [
       "{'Pam': 25000, 'Jim': 45000, 'Dwight': 50000, 'Toby': 60000, 'Michael': 100000}"
      ]
     },
     "execution_count": 22,
     "metadata": {},
     "output_type": "execute_result"
    }
   ],
   "source": [
    "dict(office_yearly_salary_srt)"
   ]
  },
  {
   "cell_type": "markdown",
   "metadata": {},
   "source": [
    "## Merging a number of dictionaries"
   ]
  },
  {
   "cell_type": "code",
   "execution_count": 40,
   "metadata": {},
   "outputs": [],
   "source": [
    "# intialize some dictionaries for our example\n",
    "# note that if there are two taht are equal, the right key that's in the right-most dict will win\n",
    "accountant_salaries = {\"Kevin\": 15000, \"Oscar\": 45000, \"Angela\": 50000}\n",
    "other_salaries = {\"Creed\": 0, \"Meredith\": 25000, \"Kelly\": 25000}\n",
    "warehouse_salaries = {\"Darryl\": 40000, \"Roy\":23000, \"Pudge\": 23000}"
   ]
  },
  {
   "cell_type": "code",
   "execution_count": 30,
   "metadata": {},
   "outputs": [
    {
     "data": {
      "text/plain": [
       "{'Kevin': 15000,\n",
       " 'Oscar': 45000,\n",
       " 'Angela': 50000,\n",
       " 'Creed': 0,\n",
       " 'Meredith': 25000,\n",
       " 'Kelly': 25000,\n",
       " 'Darryl': 50000,\n",
       " 'Roy': 23000,\n",
       " 'Pudge': 23000}"
      ]
     },
     "execution_count": 30,
     "metadata": {},
     "output_type": "execute_result"
    }
   ],
   "source": [
    "{**accountant_salaries, **other_salaries, **warehouse_salaries}"
   ]
  },
  {
   "cell_type": "markdown",
   "metadata": {},
   "source": [
    "### Nested dictionary\n",
    "\n",
    "Dictionaries with more data than just key-value pairs can be created through nesting (i.e. having dictionaries inside of each other).\n",
    "\n",
    "In this example, we'll have both job title and yearly salary included for a character, instead of having them be separately defined dictionaries:"
   ]
  },
  {
   "cell_type": "code",
   "execution_count": 33,
   "metadata": {},
   "outputs": [],
   "source": [
    "office_nested_dict = office_dict = {\n",
    "    \n",
    "    \"Michael\": {\n",
    "        \"title\": \"Regional Manager\", \n",
    "        \"salary\": 100000\n",
    "    },\n",
    "    \n",
    "    \"Dwight\": {\n",
    "        \"title\": \"Assistant Regional Manager\", \n",
    "        \"salary\": 50000\n",
    "    },\n",
    "\n",
    "    \"Jim\": {\n",
    "        \"title\": \"Sales Representative\", \n",
    "        \"salary\": 45000\n",
    "    },\n",
    "\n",
    "    \"Pam\": {\n",
    "        \"title\": \"Receptionist\", \n",
    "        \"salary\": 25000\n",
    "    },\n",
    "\n",
    "    \"Toby\": {\n",
    "        \"title\": \"HR Representative\", \n",
    "        \"salary\": 60000\n",
    "    }\n",
    "}\n"
   ]
  },
  {
   "cell_type": "markdown",
   "metadata": {},
   "source": [
    "**Printing a nested dictionary in a more readable format**"
   ]
  },
  {
   "cell_type": "code",
   "execution_count": 34,
   "metadata": {},
   "outputs": [
    {
     "data": {
      "text/plain": [
       "{'Michael': {'title': 'Regional Manager', 'salary': 100000},\n",
       " 'Dwight': {'title': 'Assistant Regional Manager', 'salary': 50000},\n",
       " 'Jim': {'title': 'Sales Representative', 'salary': 45000},\n",
       " 'Pam': {'title': 'Receptionist', 'salary': 25000},\n",
       " 'Toby': {'title': 'HR Representative', 'salary': 60000}}"
      ]
     },
     "execution_count": 34,
     "metadata": {},
     "output_type": "execute_result"
    }
   ],
   "source": [
    "# this is the default way that dictionaries are printed\n",
    "office_nested_dict"
   ]
  },
  {
   "cell_type": "code",
   "execution_count": 37,
   "metadata": {},
   "outputs": [
    {
     "name": "stdout",
     "output_type": "stream",
     "text": [
      "{\n",
      "    \"Michael\": {\n",
      "        \"title\": \"Regional Manager\",\n",
      "        \"salary\": 100000\n",
      "    },\n",
      "    \"Dwight\": {\n",
      "        \"title\": \"Assistant Regional Manager\",\n",
      "        \"salary\": 50000\n",
      "    },\n",
      "    \"Jim\": {\n",
      "        \"title\": \"Sales Representative\",\n",
      "        \"salary\": 45000\n",
      "    },\n",
      "    \"Pam\": {\n",
      "        \"title\": \"Receptionist\",\n",
      "        \"salary\": 25000\n",
      "    },\n",
      "    \"Toby\": {\n",
      "        \"title\": \"HR Representative\",\n",
      "        \"salary\": 60000\n",
      "    }\n",
      "}\n"
     ]
    }
   ],
   "source": [
    "import json\n",
    "\n",
    "# more readable way to print the dictionary\n",
    "print(json.dumps(office_nested_dict, indent = 4))"
   ]
  },
  {
   "cell_type": "markdown",
   "metadata": {},
   "source": [
    "## Default Dict (bonus)\n",
    "\n",
    "if we try to get reference that's not there, we can set a default value for it\n",
    "\n",
    "\n",
    "For example counting how many times a word appear in a script.\n"
   ]
  },
  {
   "cell_type": "code",
   "execution_count": 3,
   "metadata": {},
   "outputs": [],
   "source": [
    "script = \"I’m an early bird and I’m a night owl so I’m wise and I have worms\"\n",
    "script_list = script.split()"
   ]
  },
  {
   "cell_type": "code",
   "execution_count": 4,
   "metadata": {},
   "outputs": [],
   "source": [
    "from collections import defaultdict\n",
    "\n",
    "word_counts = defaultdict(lambda:0) # must be function-like\n",
    "\n",
    "for word in script_list:\n",
    "    \n",
    "    word_counts[word] += 1"
   ]
  },
  {
   "cell_type": "code",
   "execution_count": 5,
   "metadata": {},
   "outputs": [
    {
     "data": {
      "text/plain": [
       "defaultdict(<function __main__.<lambda>()>,\n",
       "            {'I’m': 3,\n",
       "             'an': 1,\n",
       "             'early': 1,\n",
       "             'bird': 1,\n",
       "             'and': 2,\n",
       "             'a': 1,\n",
       "             'night': 1,\n",
       "             'owl': 1,\n",
       "             'so': 1,\n",
       "             'wise': 1,\n",
       "             'I': 1,\n",
       "             'have': 1,\n",
       "             'worms': 1})"
      ]
     },
     "execution_count": 5,
     "metadata": {},
     "output_type": "execute_result"
    }
   ],
   "source": [
    "word_counts"
   ]
  },
  {
   "cell_type": "markdown",
   "metadata": {},
   "source": [
    "**A more complex example**<br>\n",
    "\n",
    "We find the position(s) of each word in the script."
   ]
  },
  {
   "cell_type": "code",
   "execution_count": 6,
   "metadata": {},
   "outputs": [],
   "source": [
    "word_positions = defaultdict(list) # must be function-like\n",
    "for ix, word in enumerate(script_list):\n",
    "    word_positions[word].append(ix)"
   ]
  },
  {
   "cell_type": "code",
   "execution_count": 7,
   "metadata": {},
   "outputs": [
    {
     "data": {
      "text/plain": [
       "defaultdict(list,\n",
       "            {'I’m': [0, 5, 10],\n",
       "             'an': [1],\n",
       "             'early': [2],\n",
       "             'bird': [3],\n",
       "             'and': [4, 12],\n",
       "             'a': [6],\n",
       "             'night': [7],\n",
       "             'owl': [8],\n",
       "             'so': [9],\n",
       "             'wise': [11],\n",
       "             'I': [13],\n",
       "             'have': [14],\n",
       "             'worms': [15]})"
      ]
     },
     "execution_count": 7,
     "metadata": {},
     "output_type": "execute_result"
    }
   ],
   "source": [
    "word_positions"
   ]
  }
 ],
 "metadata": {
  "kernelspec": {
   "display_name": "Python 3",
   "language": "python",
   "name": "python3"
  },
  "language_info": {
   "codemirror_mode": {
    "name": "ipython",
    "version": 3
   },
   "file_extension": ".py",
   "mimetype": "text/x-python",
   "name": "python",
   "nbconvert_exporter": "python",
   "pygments_lexer": "ipython3",
   "version": "3.8.3"
  }
 },
 "nbformat": 4,
 "nbformat_minor": 5
}
